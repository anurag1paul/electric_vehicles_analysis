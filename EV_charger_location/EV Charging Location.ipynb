{
 "cells": [
  {
   "cell_type": "code",
   "execution_count": 1,
   "metadata": {},
   "outputs": [],
   "source": [
    "# api_key = \"https://developer.nrel.gov/api/alt-fuel-stations/v1.json?fuel_type=E85,ELEC&state=CA&limit=2&api_key=VndyeRDWmKaUeuwDuwhPR3IRIpBpoF7tMs4r2Zc7&format=JSON\"\n",
    "# https://developer.nrel.gov/docs/transportation/alt-fuel-stations-v1/all/#response-fields"
   ]
  },
  {
   "cell_type": "code",
   "execution_count": 2,
   "metadata": {},
   "outputs": [],
   "source": [
    "import requests\n",
    "import pandas as pd\n",
    "import plotly.graph_objects as go\n",
    "import numpy as np\n",
    "import math"
   ]
  },
  {
   "cell_type": "markdown",
   "metadata": {},
   "source": [
    "# Section 1: Data Preparation #\n",
    "### Data option 1 : Reading data from saved dataFrame  ###"
   ]
  },
  {
   "cell_type": "code",
   "execution_count": null,
   "metadata": {},
   "outputs": [],
   "source": [
    "# EV Charging Station Data\n",
    "df_nrel = pd.read_excel(\"nrel_gov_data.xlsx\")\n",
    "# Electricity Cost Data\n",
    "df_eia = pd.read_excel(\"eia_gov.xlsx\")"
   ]
  },
  {
   "cell_type": "markdown",
   "metadata": {},
   "source": [
    "### Data option 2 : Download data from web ###"
   ]
  },
  {
   "cell_type": "markdown",
   "metadata": {},
   "source": [
    "#### EV Charging Station Dataset ####"
   ]
  },
  {
   "cell_type": "code",
   "execution_count": null,
   "metadata": {},
   "outputs": [],
   "source": [
    "URL = \"https://developer.nrel.gov/api/alt-fuel-stations/v1.json?api_key=VndyeRDWmKaUeuwDuwhPR3IRIpBpoF7tMs4r2Zc7\""
   ]
  },
  {
   "cell_type": "code",
   "execution_count": null,
   "metadata": {},
   "outputs": [],
   "source": [
    "response = requests.get(url = URL)"
   ]
  },
  {
   "cell_type": "code",
   "execution_count": null,
   "metadata": {},
   "outputs": [],
   "source": [
    "# Saving data to files as backup\n",
    "# data_file = open(\"data.json\",'w')\n",
    "# data_file.write(str(response.json()))\n",
    "# data_file.close()"
   ]
  },
  {
   "cell_type": "code",
   "execution_count": null,
   "metadata": {},
   "outputs": [],
   "source": [
    "data_dict = response.json()"
   ]
  },
  {
   "cell_type": "code",
   "execution_count": null,
   "metadata": {},
   "outputs": [],
   "source": [
    "print(data_dict.keys())"
   ]
  },
  {
   "cell_type": "code",
   "execution_count": null,
   "metadata": {},
   "outputs": [],
   "source": [
    "print(data_dict['station_locator_url'])"
   ]
  },
  {
   "cell_type": "code",
   "execution_count": null,
   "metadata": {},
   "outputs": [],
   "source": [
    "print(data_dict['total_results'])"
   ]
  },
  {
   "cell_type": "code",
   "execution_count": null,
   "metadata": {},
   "outputs": [],
   "source": [
    "print(data_dict['station_counts'])"
   ]
  },
  {
   "cell_type": "code",
   "execution_count": null,
   "metadata": {},
   "outputs": [],
   "source": [
    "df = pd.DataFrame(data_dict[\"fuel_stations\"])"
   ]
  },
  {
   "cell_type": "code",
   "execution_count": null,
   "metadata": {},
   "outputs": [],
   "source": [
    "df.to_excel(\"nrel_gov_data.xlsx\")"
   ]
  },
  {
   "cell_type": "markdown",
   "metadata": {},
   "source": [
    "#### Electricity Cost Dataset ####"
   ]
  },
  {
   "cell_type": "code",
   "execution_count": null,
   "metadata": {},
   "outputs": [],
   "source": [
    "# EIA\n",
    "state_list = [\"AK\",\"AL\",\"AR\",\"AZ\",\"CA\",\"CO\",\"CT\",\"DC\",\"DE\",\"FL\",\"GA\",\"HI\",\"IA\",\"ID\", \"IL\",\"IN\",\"KS\",\"KY\",\"LA\",\"MA\",\"MD\",\"ME\",\"MI\",\"MN\",\"MO\",\"MS\",\"MT\",\"NC\",\"ND\",\"NE\",\"NH\",\"NJ\",\"NM\",\"NV\",\"NY\", \"OH\",\"OK\",\"OR\",\"PA\",\"RI\",\"SC\",\"SD\",\"TN\",\"TX\",\"UT\",\"VA\",\"VT\",\"WA\",\"WI\",\"WV\",\"WY\"]"
   ]
  },
  {
   "cell_type": "code",
   "execution_count": null,
   "metadata": {},
   "outputs": [],
   "source": [
    "data_dict = dict()\n",
    "for state in state_list:\n",
    "    URL = \"http://api.eia.gov/series/?api_key={}&series_id=ELEC.PRICE.{}-ALL.M\".format(eia_api_key, state)\n",
    "    response = requests.get(url = URL)\n",
    "    print((state, response))\n",
    "    data = response.json()['series'][0]['data']\n",
    "    for entry in data:\n",
    "        if entry[0] not in data_dict:\n",
    "            data_dict[entry[0]] = dict()\n",
    "        data_dict[entry[0]][state] = entry[1]\n"
   ]
  },
  {
   "cell_type": "code",
   "execution_count": null,
   "metadata": {},
   "outputs": [],
   "source": [
    "df_eia = pd.DataFrame(data_dict)\n",
    "df_eia.to_excel(\"eia_gov.xlsx\")"
   ]
  },
  {
   "cell_type": "code",
   "execution_count": null,
   "metadata": {},
   "outputs": [],
   "source": [
    "df_eia"
   ]
  },
  {
   "cell_type": "markdown",
   "metadata": {},
   "source": [
    "# Section 2: Data clean-up and visualization #"
   ]
  },
  {
   "cell_type": "code",
   "execution_count": null,
   "metadata": {},
   "outputs": [],
   "source": [
    "print(df_nrel)"
   ]
  },
  {
   "cell_type": "code",
   "execution_count": null,
   "metadata": {},
   "outputs": [],
   "source": [
    "df_nrel.size"
   ]
  },
  {
   "cell_type": "code",
   "execution_count": null,
   "metadata": {},
   "outputs": [],
   "source": [
    "df_nrel.shape"
   ]
  },
  {
   "cell_type": "code",
   "execution_count": null,
   "metadata": {},
   "outputs": [],
   "source": [
    "df_nrel.columns"
   ]
  },
  {
   "cell_type": "markdown",
   "metadata": {},
   "source": [
    "### Fields of interest ###\n",
    "- fuel_type_code: choose \"ELEC\" for EV stations\n",
    "- city\n",
    "- state\n",
    "- zip\n",
    "- country: US or CA\n",
    "- status_code: E = Open, P = Planned, T = Temporarily unavailable\n",
    "- access_code: public, private\n",
    "- owner_type_code:\n",
    "P = Privately owned,\n",
    "T = Utility owned,\n",
    "FG = Federal government owned,\n",
    "LG = Local/Municipal government owned,\n",
    "SG = State/Provincial government owned,\n",
    "J = Jointly owned (combination of owner types)\n",
    "- ev_level1_evse_num: the number of Level 1 EVSE (standard 110V outlet)\n",
    "- ev_level2_evse_num: the number of Level 2 EVSE (J1772 connector)\n",
    "- ev_dc_fast_num: the number of DC Fast Chargers\n",
    "- ev_connector_types\n",
    "- ev_network: the name of the EVSE network, if applicable\n",
    "- ev_pricing: information about whether and how much users must pay to use the EVSE.\n",
    "- ev_renewable_source:  the type of renewable energy used to generate electricity on-site, given as code values as described below:\n",
    "GEOTHERMAL = Geothermal,\n",
    "HYDRO = Hydropower,\n",
    "LANDFILL = Landfill,\n",
    "LIVESTOCK = Livestock Operations,\n",
    "SOLAR = Solar,\n",
    "WASTEWATER = Wastewater Treatment,\n",
    "WIND = Wind\n",
    "- geocode_status: A rating indicating the approximate accuracy of the latitude and longitude for the station's address, given as code values as described below:\n",
    "- latitude\n",
    "- longitude\n",
    "- open_date\n",
    "- facility_type"
   ]
  },
  {
   "cell_type": "code",
   "execution_count": null,
   "metadata": {},
   "outputs": [],
   "source": [
    "field_of_interest = ['fuel_type_code', 'city', 'state', \n",
    "                     'zip', 'country', 'status_code', \n",
    "                     'access_code', 'owner_type_code', \n",
    "                     'ev_level1_evse_num', 'ev_level2_evse_num', 'ev_dc_fast_num', \n",
    "                     'ev_connector_types', 'ev_network', 'ev_pricing', \n",
    "                     'ev_renewable_source', 'geocode_status', 'latitude', \n",
    "                     'longitude', 'open_date', 'facility_type']"
   ]
  },
  {
   "cell_type": "code",
   "execution_count": null,
   "metadata": {},
   "outputs": [],
   "source": [
    "EV_stations = df_nrel[df_nrel['fuel_type_code'] == 'ELEC']\n",
    "EV_stations"
   ]
  },
  {
   "cell_type": "code",
   "execution_count": null,
   "metadata": {},
   "outputs": [],
   "source": [
    "print(EV_stations.shape)\n",
    "# We have 26667 EV station records"
   ]
  },
  {
   "cell_type": "code",
   "execution_count": null,
   "metadata": {},
   "outputs": [],
   "source": [
    "EV_stations = EV_stations[field_of_interest]\n",
    "EV_stations"
   ]
  },
  {
   "cell_type": "code",
   "execution_count": null,
   "metadata": {},
   "outputs": [],
   "source": [
    "EV_stations[EV_stations['open_date'].notnull()].shape[0]"
   ]
  },
  {
   "cell_type": "code",
   "execution_count": null,
   "metadata": {},
   "outputs": [],
   "source": [
    "# how many ev stations have pricing info\n",
    "EV_stations[EV_stations['ev_pricing'].notnull()].shape[0]"
   ]
  },
  {
   "cell_type": "code",
   "execution_count": null,
   "metadata": {},
   "outputs": [],
   "source": [
    "facility_dist_dict = dict()\n",
    "for facility in EV_stations['state']:\n",
    "    if facility not in facility_dist_dict:\n",
    "        facility_dist_dict[facility] = 1\n",
    "    facility_dist_dict[facility] += 1\n",
    "df_dict = dict()\n",
    "df_dict['state'] = list(facility_dist_dict.keys())\n",
    "df_dict['count'] = list(facility_dist_dict.values())\n",
    "facility_dist_df = pd.DataFrame(df_dict)\n",
    "facility_dist_df\n",
    "\n",
    "fig = go.Figure(data=go.Choropleth(\n",
    "    locations=facility_dist_df['state'], # Spatial coordinates\n",
    "    z = facility_dist_df['count'].astype(float), # Data to be color-coded\n",
    "    locationmode = 'USA-states', # set of locations match entries in `locations`\n",
    "    colorscale = 'Reds',\n",
    "    colorbar_title = \"\",\n",
    "))\n",
    "\n",
    "fig.update_layout(\n",
    "    title_text = 'EV Charging Facility',\n",
    "    geo_scope='usa', # limite map scope to USA\n",
    ")\n",
    "\n",
    "fig.show()"
   ]
  },
  {
   "cell_type": "code",
   "execution_count": null,
   "metadata": {},
   "outputs": [],
   "source": [
    "EV_stations[['state', 'ev_level1_evse_num']]"
   ]
  },
  {
   "cell_type": "code",
   "execution_count": null,
   "metadata": {},
   "outputs": [],
   "source": []
  },
  {
   "cell_type": "code",
   "execution_count": null,
   "metadata": {},
   "outputs": [],
   "source": [
    "# ev_level1_evse_num\tev_level2_evse_num\tev_dc_fast_num\n",
    "facility_dist_dict = dict()\n",
    "for facility in EV_stations['state']:\n",
    "    if facility not in facility_dist_dict:\n",
    "        facility_dist_dict[facility] = 0\n",
    "    facility_dist_dict[facility] += 1\n",
    "df_dict = dict()\n",
    "df_dict['state'] = list(facility_dist_dict.keys())\n",
    "df_dict['count'] = list(facility_dist_dict.values())\n",
    "facility_dist_df = pd.DataFrame(df_dict)\n",
    "facility_dist_df\n",
    "\n",
    "fig = go.Figure(data=go.Choropleth(\n",
    "    locations=facility_dist_df['state'], # Spatial coordinates\n",
    "    z = facility_dist_df['count'].astype(float), # Data to be color-coded\n",
    "    locationmode = 'USA-states', # set of locations match entries in `locations`\n",
    "    colorscale = 'Reds',\n",
    "    colorbar_title = \"\",\n",
    "))\n",
    "\n",
    "fig.update_layout(\n",
    "    title_text = 'EV Charging Facility',\n",
    "    geo_scope='usa', # limite map scope to USA\n",
    ")\n",
    "\n",
    "fig.show()"
   ]
  },
  {
   "cell_type": "code",
   "execution_count": null,
   "metadata": {},
   "outputs": [],
   "source": [
    "station_dist_dict = dict()\n",
    "for station in EV_stations[['state','ev_level1_evse_num','ev_level2_evse_num','ev_dc_fast_num']].iterrows():\n",
    "    if station[1]['state'] not in station_dist_dict:\n",
    "        station_dist_dict[station[1]['state']] = 0\n",
    "    if not math.isnan(station[1]['ev_level1_evse_num']):\n",
    "        station_dist_dict[station[1]['state']] += station[1]['ev_level1_evse_num']\n",
    "    if not math.isnan(station[1]['ev_level2_evse_num']):\n",
    "        station_dist_dict[station[1]['state']] += station[1]['ev_level2_evse_num']\n",
    "    if not math.isnan(station[1]['ev_dc_fast_num']):\n",
    "        facility_dist_dict[station[1]['state']] += station[1]['ev_dc_fast_num']\n",
    "# print(station_dist_dict)\n",
    "df_dict = dict()\n",
    "df_dict['state'] = list(station_dist_dict.keys())\n",
    "df_dict['count'] = list(station_dist_dict.values())\n",
    "station_dist_df = pd.DataFrame(df_dict)\n",
    "station_dist_df\n",
    "\n",
    "fig = go.Figure(data=go.Choropleth(\n",
    "    locations=station_dist_df['state'], # Spatial coordinates\n",
    "    z = station_dist_df['count'].astype(float), # Data to be color-coded\n",
    "    locationmode = 'USA-states', # set of locations match entries in `locations`\n",
    "    colorscale = 'Reds',\n",
    "    colorbar_title = \"Number of Charging Facilities\",\n",
    "))\n",
    "\n",
    "fig.update_layout(\n",
    "    title_text = 'EV Charging Stations',\n",
    "    geo_scope='usa', # limite map scope to USA\n",
    ")\n",
    "\n",
    "fig.show()"
   ]
  },
  {
   "cell_type": "code",
   "execution_count": null,
   "metadata": {},
   "outputs": [],
   "source": [
    "avg_size_dist_dict = dict()\n",
    "for item in station_dist_dict.items():\n",
    "    avg_size_dist_dict[item[0]] = item[1] / facility_dist_dict[item[0]]\n",
    "\n",
    "df_dict['state'] = list(avg_size_dist_dict.keys())\n",
    "df_dict['count'] = list(avg_size_dist_dict.values())\n",
    "avg_size_dist_df = pd.DataFrame(df_dict)\n",
    "avg_size_dist_df\n",
    "\n",
    "fig = go.Figure(data=go.Choropleth(\n",
    "    locations=avg_size_dist_df['state'], # Spatial coordinates\n",
    "    z = avg_size_dist_df['count'].astype(float), # Data to be color-coded\n",
    "    locationmode = 'USA-states', # set of locations match entries in `locations`\n",
    "    colorscale = 'Reds',\n",
    "    colorbar_title = \"Stations per Site\",\n",
    "))\n",
    "\n",
    "fig.update_layout(\n",
    "    title_text = 'Average Charging Facility Size',\n",
    "    geo_scope='usa', # limite map scope to USA\n",
    ")\n",
    "\n",
    "fig.show()"
   ]
  },
  {
   "cell_type": "markdown",
   "metadata": {},
   "source": [
    "#### EIA Electricity Cost Dataset ####"
   ]
  },
  {
   "cell_type": "code",
   "execution_count": null,
   "metadata": {},
   "outputs": [],
   "source": [
    "fig = go.Figure(data=go.Choropleth(\n",
    "    locations=df_eia.index, # Spatial coordinates\n",
    "    z = df_eia['201908'].astype(float), # Data to be color-coded\n",
    "    locationmode = 'USA-states', # set of locations match entries in `locations`\n",
    "    colorscale = 'Reds',\n",
    "    colorbar_title = \"USD per kWh\",\n",
    "))\n",
    "\n",
    "fig.update_layout(\n",
    "    title_text = 'August 2019 US Electricity Cost',\n",
    "    geo_scope='usa', # limite map scope to USA\n",
    ")\n",
    "\n",
    "fig.show()"
   ]
  },
  {
   "cell_type": "code",
   "execution_count": null,
   "metadata": {},
   "outputs": [],
   "source": [
    "# Create figure\n",
    "fig = go.Figure()\n",
    "\n",
    "# Add traces, one for each slider step\n",
    "for step in list(df_eia.columns):\n",
    "    \n",
    "    fig.add_trace(\n",
    "        go.Choropleth(\n",
    "            locations=df_eia.index, # Spatial coordinates\n",
    "            z = df_eia[step].astype(float), # Data to be color-coded\n",
    "            locationmode = 'USA-states', # set of locations match entries in `locations`\n",
    "            colorscale = 'Reds',\n",
    "            colorbar_title = \"USD/kWh\",\n",
    "            name = step))\n",
    "\n",
    "# Make 10th trace visible\n",
    "fig.data[0].visible = True\n",
    "\n",
    "# Create and add slider\n",
    "steps = []\n",
    "for i in range(len(fig.data)):\n",
    "    step = dict(\n",
    "        method=\"restyle\",\n",
    "        args=[\"visible\", [False] * len(fig.data)],\n",
    "    )\n",
    "    step[\"args\"][1][i] = True  # Toggle i'th trace to \"visible\"\n",
    "    steps.append(step)\n",
    "\n",
    "sliders = [dict(\n",
    "    active=0,\n",
    "#     currentvalue={\"201908\"},\n",
    "    pad={\"t\": 50},\n",
    "    steps=steps\n",
    ")]\n",
    "\n",
    "fig.update_layout(\n",
    "    sliders=sliders,\n",
    "    title_text = '2011-2019 Monthly Electricity Cost in the US',\n",
    "    geo_scope='usa' # limite map scope to USA\n",
    ")\n",
    "\n",
    "fig.show()"
   ]
  },
  {
   "cell_type": "code",
   "execution_count": null,
   "metadata": {},
   "outputs": [],
   "source": []
  }
 ],
 "metadata": {
  "kernelspec": {
   "display_name": "Python 3",
   "language": "python",
   "name": "python3"
  },
  "language_info": {
   "codemirror_mode": {
    "name": "ipython",
    "version": 3
   },
   "file_extension": ".py",
   "mimetype": "text/x-python",
   "name": "python",
   "nbconvert_exporter": "python",
   "pygments_lexer": "ipython3",
   "version": "3.7.4"
  }
 },
 "nbformat": 4,
 "nbformat_minor": 2
}
