{
 "cells": [
  {
   "cell_type": "code",
   "execution_count": null,
   "metadata": {},
   "outputs": [],
   "source": [
    "# pip install fuzzywuzzy"
   ]
  },
  {
   "cell_type": "code",
   "execution_count": null,
   "metadata": {},
   "outputs": [],
   "source": [
    "# pip install plotly"
   ]
  },
  {
   "cell_type": "code",
   "execution_count": null,
   "metadata": {},
   "outputs": [],
   "source": [
    "# pip install python-Levenshtein"
   ]
  },
  {
   "cell_type": "markdown",
   "metadata": {},
   "source": [
    "### Dataset: EV charger location ###"
   ]
  },
  {
   "cell_type": "code",
   "execution_count": null,
   "metadata": {},
   "outputs": [],
   "source": [
    "# Get api keys from corresponding website before scraping\n",
    "nrel_api_key = \"VndyeRDWmKaUeuwDuwhPR3IRIpBpoF7tMs4r2Zc7\"\n",
    "eia_api_key = \"92f2fd0380413742c5338abd582517e0\""
   ]
  },
  {
   "cell_type": "code",
   "execution_count": null,
   "metadata": {},
   "outputs": [],
   "source": [
    "import ev_charger"
   ]
  },
  {
   "cell_type": "code",
   "execution_count": null,
   "metadata": {},
   "outputs": [],
   "source": [
    "# Scaping data from website\n",
    "ev_charger.scraping_data(nrel_api_key, eia_api_key)"
   ]
  },
  {
   "cell_type": "code",
   "execution_count": null,
   "metadata": {},
   "outputs": [],
   "source": [
    "# import scraped data\n",
    "df_nrel, df_eia = ev_charger.import_data('data/nrel_gov_data.xlsx', 'data/eia_gov.xlsx')"
   ]
  },
  {
   "cell_type": "code",
   "execution_count": null,
   "metadata": {},
   "outputs": [],
   "source": [
    "# clean up ev station data\n",
    "EV_stations = ev_charger.prepare_data(df_nrel)"
   ]
  },
  {
   "cell_type": "code",
   "execution_count": null,
   "metadata": {},
   "outputs": [],
   "source": [
    "# show charging facility distribution on a US map\n",
    "ev_charger.show_us_charging_facility(EV_stations)"
   ]
  },
  {
   "cell_type": "code",
   "execution_count": null,
   "metadata": {},
   "outputs": [],
   "source": [
    "# show charging station distribution on a US map\n",
    "ev_charger.show_us_charging_station(EV_stations)"
   ]
  },
  {
   "cell_type": "code",
   "execution_count": null,
   "metadata": {},
   "outputs": [],
   "source": [
    "# show charging station per facility distribution on a US map\n",
    "ev_charger.show_us_station_per_site(EV_stations)"
   ]
  },
  {
   "cell_type": "code",
   "execution_count": null,
   "metadata": {},
   "outputs": [],
   "source": [
    "# show electricity cost distribution on a US map\n",
    "ev_charger.show_us_elec_cost(df_eia)"
   ]
  },
  {
   "cell_type": "code",
   "execution_count": null,
   "metadata": {},
   "outputs": [],
   "source": [
    "# show gas cost facility distribution on a US map\n",
    "ev_charger.show_us_gas_cost('data/gas_abbv.csv')"
   ]
  },
  {
   "cell_type": "markdown",
   "metadata": {},
   "source": [
    "### Insurance matching ###"
   ]
  },
  {
   "cell_type": "code",
   "execution_count": 1,
   "metadata": {},
   "outputs": [
    {
     "name": "stderr",
     "output_type": "stream",
     "text": [
      "/Users/liuyuxuan/opt/anaconda3/lib/python3.7/site-packages/fuzzywuzzy/fuzz.py:11: UserWarning: Using slow pure-python SequenceMatcher. Install python-Levenshtein to remove this warning\n",
      "  warnings.warn('Using slow pure-python SequenceMatcher. Install python-Levenshtein to remove this warning')\n"
     ]
    }
   ],
   "source": [
    "import insurance_matching"
   ]
  },
  {
   "cell_type": "code",
   "execution_count": 2,
   "metadata": {},
   "outputs": [
    {
     "name": "stdout",
     "output_type": "stream",
     "text": [
      "{'Volvo V60 T5', 'Infiniti QX50 Essential', 'Jaguar XE 35t Premium', 'Subaru Ascent Touring', 'Nissan Pathfinder Platinum', 'Toyota Yaris LE', 'Kia Optima EX', 'Cadillac XTS Vsport Platinum', 'Buick Regal TourX Preferred', 'Fiat 124 Spider Lusso', 'Jeep Compass Latitude', 'Honda CR-V Touring', 'Jaguar F-Type', 'BMW 330i GT XDrive SULEV', 'Volkswagen Beetle S', 'Cadillac CTS V', 'Hyundai Accent Limited', 'Kia Niro EX', 'Land Rover Range Rover Sport SE', 'Ford Fusion Energi SE Luxury', 'Chevrolet Bolt EV LT Fast Charging', 'Subaru Impreza 2.0I Sport', 'Ford F-250 SD', 'BMW 430i XDrive SULEV', 'Ford F-250 SD Platinum', 'Infiniti Q70', 'Cadillac ATS Premium', 'Acura RDX', 'Buick Cascada 1SV', 'BMW 230i', 'Mercedes GLA45 4MATIC', 'Ford F-250 SD Lariat OFF', 'Nissan Maxima SL', 'Volvo XC40 T5 Inscription', 'Porsche Panamera 4S Executive', 'Chevrolet Silverado 3500HD Fleet', 'Ford Expedition Limited', 'Mitsubishi Mirage ES', 'Cadillac Escalade Platinum', 'Mercedes GLC350e 4MATIC', 'Mercedes S560', 'Lexus GX 460 Premium', 'Ford C-Max Titanuim', 'Audi A8 L 3.0T Quattro', 'Toyota Tundra TRD OFF', 'Chevrolet Silverado 3500HD LTZ', 'BMW X5 40E', 'Toyota Highlander Ltd Platinum', 'Infiniti Q70 L Luxe', 'Mercedes C63 AMG', 'Lincoln MKC Reserve', 'Dodge Journey SE', 'Kia Sedona EX', 'Audi A4 2.0T Progressiv', 'Toyota Prius Limited', 'Jaguar F-Pace 25T Premium', 'Jeep Wrangler Willys Wheeler', 'Ford Expedition MAX XLT', 'Toyota 4Runner SR5', 'Dodge Grand Caravan SXT', 'Infiniti Q70 Luxe', 'Nissan Pathfinder SL', 'Ford F-350 SD XL', 'Hyundai Ioniq Limited', 'Chevrolet Silverado 2500HD Fleet', 'Toyota Tundra Limited', 'Lexus GS 450H F Sport', 'BMW 430i SULEV', 'BMW 750I', 'Chevrolet Silverado 2500HD LTZ', 'Buick Cascada Premium', 'Dodge Durango Platinum', 'Honda HR-V Sport', 'Volvo S90 T8 Momentum', 'Honda Ridgeline RTL-E', 'Mini Cooper Clubman S', 'Kia Forte S', 'Porsche Panamera 4S Sport Turismo', 'Audi A6 2.0T Sport', 'Audi Etron Prestige', 'Toyota Camry L', 'Volkswagen Atlas Trendline', 'BMW 640ix Gran Coupe', 'Volvo V60 T6 Inscription', 'Hyundai Sonata Plug-In', 'Mazda CX-9 Grand Touring', 'Mazda CX-9 Sport', 'Toyota Highlander LE', 'Buick Encore Premium', 'Hyundai Sonata SE', 'Cadillac CTS', 'Genesis G90 Premium', 'Jeep Grand Cherokee High Altit', 'Jaguar F-Pace 25T', 'Toyota Sienna L', 'Acura TLX SH Tech', 'Chevrolet Colorado LT', 'Volkswagen Beetle SE', 'Lincoln MKT', 'BMW 650i', 'Nissan Rogue Sport S', 'Volvo XC90 T5', 'Volkswagen Tiguan SEL Premium', 'GMC Yukon SLT', 'Chrysler Pacifica L', 'Chevrolet Tahoe LS', 'Mercedes E43 AMG 4MATIC', 'Honda Odyssey Touring', 'Toyota 4Runner SR5 Premium', 'Volkswagen Golf 1.8T S', 'Subaru Legacy 3.6R Limited', 'Volvo S90 T6 Momentum', 'BMW I8', 'BMW M240i', 'Hyundai Elantra GT', 'Mazda Mazda3 Touring', 'Infiniti Q60 Pure', 'Volvo XC60 T8 Inscription', 'BMW 328d', 'Nissan Rogue S', 'Audi A3 1.8T TFSI Premium', 'Hyundai Tucson SEL', 'Hyundai Sonata Limited', 'Volvo XC40 T5 Momentum', 'Cadillac ATS Luxury', 'Chevrolet Cruze Premier', 'Kia Optima Plug-In Hybrid EX', 'Nissan Rogue Sport SL', 'Tesla Model X 75D', 'Subaru Ascent', 'Audi TT 2.0T Quattro', 'Ford Transit Connect Titanium', 'Audi A3 2.0T Premium', 'Chrysler Pacifica LX', 'Ford Transit Connect XLT', 'Buick Encore 1SV', 'Jaguar XE Landmark', 'Lexus RX 350 F-Sport', 'Honda Civic Sport', 'Dodge Challenger 392 Sct Pck Sh', 'Chevrolet Cruze L', 'Jeep Wrangler Sahara', 'Subaru WRX STI', 'Jeep Cherokee Trailhawk', 'Nissan GT-R Nismo', 'Mazda MX-5 Miata Club', 'Land Rover Range Rover Evoq SE P', 'Ford F-250 SD XLT OFF', 'Ford Fusion Titanium', 'Land Rover Range Rover Evoq SE Dynam', 'Mercedes Maybach S560 4MATIC', 'Hyundai Santa Fe XL SE Ultimate', 'Porsche Cayenne Turbo', 'Hyundai Veloster Turbo', 'Mazda CX-5 Touring', 'Lexus LS500', 'Chevrolet Spark LT', 'Honda Accord LX', 'Jaguar F-Pace 35T Prestige', 'Audi A7 3.0T Quattro Premium P', 'Volvo S60 T6 Polestar', 'Volvo V90 T6 X-Country Momentum', 'GMC Yukon Denali', 'Buick Regal Sportback Preferred', 'BMW X4 XDrive 28i', 'Jaguar E-Pace R-Dynamic HSE', 'Genesis G80 Sport', 'Mitsubishi Outlander LE', 'Volvo XC90 T8 Inscription', 'Alfa-Romeo Stelvio TI Q4', 'Chevrolet Spark Active', 'Chrysler Pacifica Touring-L', 'Hyundai Santa Fe SE', 'Honda Pilot LX', 'Kia Cadenza Limited', 'Dodge Durango Citadel', 'Chevrolet Corvette Stingray LT', 'Jaguar XJ R575', 'Audi RS5 Sportback Quattro', 'Dodge Charger SXT', 'Chevrolet Camaro LS', 'Jeep Wrangler Unlimited Sport', 'Mercedes GLC43 AMG 4MATIC', 'Porsche 911 Carrera GTS', 'BMW X5 XDrive 5.0', 'Land Rover Discovery SE', 'Porsche 911 Carrera 4 GTS', 'Nissan Kicks SV', 'Ford Escape SE', 'Acura MDX Advance Package', 'Nissan Altima 2.5 S', 'BMW 640ix GT', 'Acura RDX A-Spec', 'Ford Mustang GT Premium', 'Jaguar XE 35t Portfolio', 'Alfa-Romeo Giulia', 'Kia Niro FE', 'Audi S4 3.0 Quattro Premium', 'Audi A6 3.0T Quattro Prestige', 'Audi S7 4.0T Quattro Prem Plus', 'Lexus GS 350', 'Chevrolet Traverse LS Fleet', 'Jaguar XF 300 Sport LE', 'Lincoln Navigator L Select', 'Toyota RAV4 SE', 'Genesis G90 Ultimate', 'Dodge Challenger SRT 392', 'Chevrolet Malibu Premier', 'GMC Acadia Terrain-2', 'Cadillac CT6', 'Lexus ES 350', 'Volkswagen Atlas Launch', 'Jeep Cherokee Latitude Plus', 'Volvo S60 T6 Inscription', 'Ford F-350 SD Limited', 'Porsche Macan Turbo', 'Audi A3 1.8T Prestige S', 'Jaguar XE 25t Prestige', 'Volvo XC40 T4 Momentum', 'Mercedes CLA45 AMG 4Matic', 'Kia Rio EX', 'Chevrolet Suburban 1500 Premier', 'Porsche Cayenne S', 'BMW X4 XDrive 30i', 'Hyundai Ioniq Preferred', 'Ford F-150 SVT Raptor', 'BMW 640i', 'Jaguar XJL 50', 'Nissan Altima 3.5 SL', 'Ford Flex SEL', 'Lincoln MKT Reserve', 'Nissan Sentra S', 'Volvo S60 T5 R-Design', 'Lexus RX 350', 'BMW 540i', 'Mercedes S450', 'Ford F-150', 'Ford Fusion Sport', 'Hyundai Elantra Limited', 'Volkswagen Atlas S', 'Mini Cooper S', 'Jeep Cherokee Latitude', 'Porsche Panamera S', 'GMC Savana G2500 LS', 'Nissan Versa Note 1.6 S+', 'Dodge Ram 1500 Laramie', 'Dodge Ram 1500 Laramie Longhorn', 'BMW X6 SDrive 35i', 'Chevrolet Express G2500 LT', 'Ford Expedition MAX Limited', 'Audi A5 2.0T Quattro Prem S', 'Honda Fit LX', 'Volvo XC60 T6 Inscription', 'Audi A3 2.0T Quattro Premium', 'Toyota Sienna XLE', 'GMC Sierra 3500HD Denali', 'Hyundai Elantra Sport', 'Volvo XC90 T8 R-Design', 'Mercedes SL65 AMG', 'Chevrolet Colorado', 'Subaru Outback 2.5I Premium', 'Mitsubishi Outlander SE', 'GMC Sierra 3500HD Fleet', 'Audi A5 2.0T Quattro Prestige', 'Kia Niro Premium', 'Audi Q7 2.0T Quattro Premium P', 'Jaguar XE 25t R-Sport', 'Chevrolet Silverado 1500 High Cntry', 'Honda Civic EX', 'Volvo V90 T5 X-Country Momentum', 'Honda Civic Si', 'Jaguar F-Type 380 HP', 'Volvo V60 T5 Momentum', 'Porsche 911 Carrera Targa 4 GTS', 'BMW 740e xDrive iPerformance', 'Porsche 911 Carrera Targa', 'Toyota RAV4 Platinum', 'Fiat 500 C Abarth', 'Alfa-Romeo Stelvio Quadrofoglio', 'Honda Odyssey EX', 'BMW M760i xDrive', 'Volvo V60 T5 R-Design', 'Land Rover Range Rover AUTOBIO', 'BMW 330i', 'Chevrolet Silverado 1500 Trail Boss', 'Buick Envision Premium II', 'Honda Pilot EX-L', 'BMW 640ix', 'Honda Civic EX-T', 'GMC Canyon SLE', 'BMW 650ix Gran Coupe', 'Toyota Sequoia SR5', 'Chevrolet Silverado 2500HD', 'Chevrolet Corvette Stingray Z51 3LT', 'GMC Sierra 3500HD SLT', 'Toyota Camry XSE', 'Jeep Renegade Limited', 'Toyota Tacoma TRD Sport', 'Nissan Pathfinder SV', 'Dodge Durango R/T', 'Honda Civic Sport Touring', 'Audi Q3 2.0T Premium Plus', 'Buick Enclave Avenir', 'Lincoln Navigator Reserve', 'Subaru Ascent Premium', 'Toyota Camry XLE', 'Land Rover Discovery Sport HSE', 'Dodge Journey GT', 'Genesis G80 Premium', 'Chevrolet Tahoe Special', 'BMW 440i Gran Coupe', 'Nissan Altima 2.5 Platinum', 'Toyota Prius C Two', 'Subaru Outback 2.5I Touring', 'Toyota Tacoma SR5', 'Lexus RX 350L', 'Ford Focus SE', 'Honda Ridgeline RTL-T', 'Honda Ridgeline RTL', 'Mercedes S560e', 'Cadillac CTS Premium Luxury', 'Ford Taurus SHO', 'Toyota Prius Two Eco', 'Mercedes CLS550 4MATIC', 'BMW 650i Gran Coupe', 'Volkswagen Tiguan SEL', 'Honda Accord EX-L Navi', 'Mercedes S560 4MATIC', 'Mini Cooper COUNTRYMAN ALL4', 'Lexus NX 300', 'Toyota 4Runner TRD Pro', 'Chevrolet Tahoe LTZ', 'Audi A6 2.0T Quattro Premium P', 'Mazda CX-9 Signature', 'Toyota Prius Four', 'Chevrolet Malibu LT', 'Infiniti Q60 Luxe', 'Chevrolet Silverado 1500 LTZ', 'Land Rover Range Rover Evoq AUTOBIO', 'Volvo XC90 T6 Inscription', 'Nissan NV3500 SV', 'Nissan Kicks S', 'Chrysler 300C Luxury', 'Lexus ES 300H', 'Honda Pilot Elite', 'GMC Sierra 2500HD Fleet', 'Volvo V90 T6 X-Country Inscript', 'Kia Sorento EX', 'Mercedes CLA250', 'Chevrolet Camaro 2LT', 'Jaguar XE 35t Prestige', 'Cadillac CT6 Premium', 'Chevrolet Sonic LT', 'Nissan Versa Note 1.6 SV', 'Porsche Macan', 'Chevrolet Camaro 2SS', 'Toyota Prius Three', 'Subaru Impreza 2.0I Premium', 'Audi S4 3.0 Quattro Prestige', 'Dodge Challenger R/T', 'Dodge Ram 1500 SLT', 'GMC Acadia SLT-2', 'Cadillac Escalade ESV Premium', 'Chevrolet Equinox 2LZ', 'Kia Sportage SX', 'Lincoln MKZ Select', 'BMW M6', 'Mazda CX-3 Touring', 'Volvo V90 T5 R-Design', 'Audi A3 2.0T Premium Plus', 'BMW X4 M40i', 'Honda Accord EX', 'Acura TLX Tech 2.4L', 'Mazda Mazda3 Sport', 'Porsche Panamera S Executive', 'Fiat 124 Spider Classica', 'Chevrolet Trax Premier', 'Mercedes GLC300 4MATIC', 'Nissan Titan XD S', 'Ford Focus Titanium', 'Audi S6 4.0T Quattro Prestige', 'Land Rover Range Rover SV AUTOBIO', 'Audi RS5 Quattro', 'BMW 540i XDrive', 'Hyundai Ioniq Limited Ultimate', 'Toyota Corolla LE Eco', 'BMW 320i XDrive', 'Lincoln MKX Black Label', 'Lexus IS 300 F-Sport', 'Porsche Cayenne Turbo S', 'Buick Lacrosse Avenir', 'Chevrolet Traverse LT', 'Toyota RAV4 Adventure', 'Hyundai Santa Fe SEL', 'Nissan Pathfinder S', 'Ford Mustang Bullitt', 'Acura TLX 3.5L', 'Volvo V90 T6 R-Design', 'Mercedes GLC63 AMG 4MATIC', 'Subaru Forester 2.5I Sport', 'Hyundai Tucson Value', 'Audi S7 4.0T Quattro Prestige', 'GMC Canyon All Terrain', 'Nissan Kicks SR', 'Chevrolet Silverado 1500 LS', 'Mini Cooper Clubman ALL4', 'Buick Encore Preferred II', 'Volkswagen Atlas SE', 'Audi Etron Premium Plus', 'Cadillac CT6 Platinum', 'Jeep Grand Cherokee Summit', 'Buick Regal Sportback (1SV)', 'Chevrolet Corvette Stingray 2LT', 'Kia Rio 5 EX', 'Mercedes SLC43 AMG', 'Volvo V60 T5 X-Country Inscript', 'Chevrolet Suburban 1500 LT', 'Jaguar F-Type R', 'GMC Terrain SLE', 'Audi Q7 3.0T Quattro Prestige', 'Mercedes SL63 AMG', 'Subaru Legacy 2.5I', 'BMW 330i XDrive', 'Chevrolet Express G3500 LT', 'Toyota 86 GT', 'Chevrolet Silverado 1500 Work Truck', 'Hyundai Veloster Premium', 'Nissan Frontier SV', 'Lincoln MKT Premiere', 'Honda Accord Sport', 'Jaguar XF R-Sport', 'Hyundai Tucson Ultimate', 'Toyota Camry SE', 'Volvo V60 T5 Premier', 'BMW 750I XDrive', 'Honda Civic LX-P', 'Cadillac XT4 Sport', 'Acura MDX A-SPEC', 'Ford Fiesta Titanium', 'Mazda CX-3 Grand Touring', 'Genesis G80T Sport', 'Buick Lacrosse Sport Touring', 'Acura RLX Tech', 'Buick Regal TourX Essence', 'Audi Q5 2.0T Prestige', 'Chevrolet Corvette Stingray 3LT', 'Kia Soul EV+', 'Cadillac CT6 Premium Luxury', 'Alfa-Romeo Giulia Q4 TI Sport', 'Buick Envision Leather', 'Volkswagen Golf 1.4T SE', 'Audi A8 L 4.0T Quattro', 'Chevrolet Spark LS', 'Audi SQ5 3.0T Quattro PremPlus', 'Dodge Durango SRT', 'Chevrolet Silverado 3500HD WT', 'Porsche Panamera Turbo Executive', 'Ford F-250 SD XL', 'BMW X1 XDrive 28i', 'BMW X3 XDrive M40i', 'Lincoln MKZ Black Label', 'Jaguar E-Pace R-Dynamic SE', 'Toyota Prius Two', 'BMW 440i', 'Toyota Avalon Touring', 'Nissan Murano SV', 'Acura ILX 2.4L', 'Chevrolet Traverse L', 'Ford Escape S', 'Alfa-Romeo Stelvio TI Lux', 'Land Rover Discovery HSE', 'Lincoln Nautilus Reserve', 'Chevrolet Equinox Premier', 'Mercedes GLS63 AMG', 'Lexus LX 570', 'Nissan Rogue SL', 'Jeep Compass Limited', 'Volkswagen Golf TSI S', 'Chevrolet Sonic LS', 'Genesis G80', 'GMC Sierra 1500', 'Mini Cooper COUNTRYMAN S ALL4', 'Cadillac XT5 Premium', 'Honda Civic EX-L', 'Chevrolet Cruze LS', 'Honda Fit Sport', 'Volkswagen Jetta SEL Premium', 'Mazda CX-5 Sport', 'Subaru Forester 2.5I Limited', 'Kia Rio 5 S', 'BMW 530i XDrive', 'Lexus LS500 F-Sport', 'Mitsubishi Outlander Sport GT', 'Volkswagen Jetta SEL', 'Subaru XV Crosstrek 2.0I Premium', 'Ford C-Max SE', 'BMW X2 SDrive 28i', 'Nissan Rogue SV', 'Chevrolet Corvette Z06 2LZ', 'Volvo V60 T5 Dynamic', 'Lincoln Continental Reserve', 'Nissan Maxima SR', 'Hyundai Kona Ultimate', 'Chevrolet Silverado 1500 LT', 'Hyundai Sonata SEL', 'Jaguar I-Pace S', 'Ford Ecosport SE', 'Ford Fusion Platinum', 'Mercedes GLA250', 'Acura TLX 2.4L', 'Hyundai Veloster R-SPEC', 'Ford Fiesta SE', 'Kia Sorento L', 'Honda Fit EX-L', 'Dodge Charger SRT Hellcat', 'Dodge Ram 1500 Big Horn', 'Cadillac CTS Luxury', 'Mercedes C43 AMG', 'Jaguar XJ R-Sport', 'Toyota 86 TRD SE', 'Lincoln MKC Premier', 'Mitsubishi Outlander Sport SEL', 'Chevrolet Tahoe Premier', 'Volkswagen Jetta Sport', 'Chrysler 300 Touring', 'Ford Focus SEL', 'BMW 530i', 'Volvo XC90 T8 Momentum', 'Jeep Grand Cherokee SRT', 'Land Rover Range Rover', 'Buick Envision Essence', 'Volvo XC60 T5 R-Design', 'Volkswagen Atlas SEL Premium', 'Mercedes AMG GT', 'Mercedes GLE350', 'Mercedes S63 AMG 4MATIC', 'Volvo V90 T5 Inscription', 'GMC Yukon XL 1500 SLE', 'Jeep Cherokee Overland', 'Land Rover Range Rover Velar', 'Audi Allroad Quattro Premium', 'Lincoln MKX Premier', 'Toyota Sequoia Limited', 'Jaguar F-Pace 20D Premium', 'Cadillac Escalade ESV', 'Land Rover Range Rover HSE', 'Lincoln Continental Black Label', 'Nissan Leaf SL', 'Subaru Impreza 2.0I Limited', 'Jaguar F-Pace S', 'Fiat 500 Lounge', 'Toyota Sienna LE', 'Toyota Highlander LE Plus', 'Acura MDX Advance RES', 'Chevrolet Corvette Z06 3LZ', 'Porsche 718 Cayman S', 'Kia Sorento SX', 'Dodge Ram Promaster City ST', 'Chevrolet Volt Electric LT', 'Volvo XC90 T6 Momentum', 'Cadillac ATS-V', 'Kia Cadenza Technology', 'Cadillac XT5 Prem Luxury', 'Volvo XC90 T6 R-Design', 'Volkswagen Passat R-Line', 'Audi Q5 2.0T Premium Plus', 'Ford F-250 SD Platinum OFF', 'Chevrolet Camaro SS', 'Toyota Corolla XSE', 'BMW 340i GT XDrive', 'BMW M2 Competition', 'Hyundai Tucson Limited', 'GMC Sierra 2500HD Denali', 'GMC Acadia SLE-2', 'Mini Cooper COUNTRYMAN S', 'Mazda MX-5 Miata RF Grand Touri', 'Audi A6 2.0T Premium Plus', 'Buick Envision Convenience', 'Jaguar XJL Supercharged', 'Alfa-Romeo Stelvio', 'Ford F-350 SD XLT', 'Audi Q3 2.0T Quattro Prestige', 'Mitsubishi Mirage SE', 'Lexus RC F', 'Chevrolet Traverse High Country', 'Ford F-350 SD Platinum', 'Dodge Charger SRT 392', 'Audi A4 2.0T Prestige', 'Jeep Wrangler Rubicon Recon', 'Kia Forte EX', 'Dodge Challenger SXT', 'Hyundai Elantra SE', 'Land Rover Range Rover Evoq Landmark', 'Dodge Journey SXT', 'Nissan Titan XD Platinum', 'Mitsubishi Mirage G4 SE', 'Porsche Macan S', 'Kia Soul EV', 'Toyota Corolla XLE', 'Jaguar XE 25t Premium', 'Hyundai Santa Fe Ultimate', 'Jaguar F-Pace 35T Portfolio', 'Ford Taurus SEL', 'Mitsubishi Eclipse Cross SEL', 'Honda HR-V EX-L', 'Mercedes C300 4MATIC', 'Honda Accord', 'Chevrolet Tahoe LT', 'Cadillac ATS Premium Luxury', 'Ford Focus RS', 'Audi S5 3.0 Quattro Prem Plus', 'Jaguar XE 35t R-Sport', 'Porsche 718 Boxster Spyder', 'Toyota Prius Advanced', 'Volkswagen Golf Alltrack SEL', 'Volvo XC90 T8', 'Mini Cooper Clubman', 'GMC Savana G3500 LS', 'Chevrolet Silverado 2500HD High Cty', 'Mini Cooper COUNTRYMAN', 'Kia Rio SX', 'Mercedes GLE63 AMG 4MATIC', 'Audi Q3 2.0T Quattro Premium', 'Ford Fusion SE', 'Acura TLX Advance', 'Dodge Ram 1500 Longhorn Sport', 'Nissan Maxima SV', 'Volvo V60 T5 X-Country R-Design', 'Nissan Titan XD Pro-4x', 'Dodge Ram 1500 Express', 'GMC Sierra 1500 SLE', 'GMC Sierra 1500 SLT', 'Jaguar F-Pace 25T Prestige', 'Audi A7 3.0T Quattro Comp Pres', 'GMC Yukon XL Denali', 'Volvo S90 T5 Momentum', 'Ford Expedition Platinum', 'Buick Encore Sport Touring', 'Mercedes GLE43 AMG', 'Volkswagen Passat SE', 'Honda HR-V EX', 'Toyota Prius Prime', 'Volkswagen Atlas', 'GMC Savana G3500 LT', 'Alfa-Romeo Giulia TI Q4', 'Mitsubishi Eclipse Cross LE', 'Volvo S90 T5 Inscription', 'Buick Enclave Premium', 'Kia Optima', 'Land Rover Discovery Sport HSE Dynam', 'BMW 740xi', 'Nissan Rogue Sport SV', 'Audi A6 2.0T Quattro Premium', 'Kia Sedona SX', 'Dodge Ram 1500 Rebel', 'BMW 640i Gran Coupe', 'Buick Lacrosse Essence', 'Toyota C-HR XLE', 'Hyundai Ioniq Plug-In', 'Subaru XV Crosstrek 2.0I Limited', 'Hyundai Santa Fe Sport', 'Land Rover Range Rover Velar R-Dynam', 'Kia Stinger GT', 'Toyota Tundra SR', 'Cadillac XT4 Luxury', 'Buick Envision Preferred', 'Smart FORTWO Electric Drive', 'Chevrolet Tahoe Fleet', 'Nissan Armada SL', 'Lincoln Navigator L Black Label', 'Audi Q7 2.0T Quattro Premium', 'Mercedes E300 AMG Line', 'Chevrolet Colorado ZR2', 'Jeep Wrangler Unlimited Rubico', 'Ford Edge SEL', 'Dodge Ram 1500 HFE', 'Dodge Durango SXT', 'Jeep Wrangler Altitude', 'Land Rover Range Rover Evoq SE', 'Subaru Outback 3.6R Touring', 'Mini Cooper Clubman S ALL4', 'Mitsubishi Mirage GT', 'Toyota RAV4 LE', 'Ford Explorer Sport', 'Audi RS7 Quattro Performance', 'Nissan NV3500 SL', 'Alfa-Romeo Giulia Q4 Sport', 'Jeep Renegade Trailhawk', 'Mercedes C300', 'Lincoln Nautilus Select', 'GMC Savana G2500 LT', 'Toyota Yaris IA', 'Jeep Wrangler Unlimited Sahara', 'GMC Canyon', 'Volkswagen Passat Wolfsburg', 'Mazda MX-5 Miata Sport', 'Toyota 86', 'Porsche 911 Turbo', 'Cadillac XTS', 'Volkswagen Golf TSI SEL', 'Ford Expedition XLT', 'Buick Cascada Sport Touring', 'Lincoln MKX Select', 'Mercedes E300 AMG Line 4MATIC', 'Porsche 911 Carrera S', 'Fiat 500 Pop', 'Ford Ecosport Titanium', 'Volkswagen Passat S', 'Jaguar XE 20D Prestige', 'Audi A4 2.0T Quattro Premium P', 'Hyundai Sonata Ultimate', 'Kia Soul +', 'Mercedes CLS450 4Matic', 'Tesla Model S 75D', 'Hyundai Ioniq Blue', 'Jeep Compass Trailhawk', 'GMC Acadia SLT-1', 'Ford F-350 SD King Ranch', 'Jaguar F-Pace 20D Prestige', 'Chrysler 300 Limited', 'Chevrolet Equinox LT', 'Honda Pilot Black Edition', 'Jaguar XE 300 Sport', 'Volvo XC40 T5', 'Jaguar XF Sport Brake Prestige', 'Toyota 4Runner TRD OFF-ROAD', 'Volvo XC40 T4 R-Design', 'Kia Optima LX', 'Volvo XC40 T4', 'Alfa-Romeo Stelvio Super', 'Volvo S60 T5 Inscription', 'BMW I3 S Range Extender', 'Volvo S90 T6 Inscription', 'Jaguar E-Pace SE', 'Jeep Renegade Latitude', 'Ford Edge Titanium', 'Dodge Durango GT', 'Chevrolet Colorado Z71', 'Jaguar F-Pace 20D R-Sport', 'Chevrolet Equinox 2LT', 'Kia Optima S', 'Land Rover Range Rover Sport HSE Dyn', 'Buick Envision Premium', 'Chevrolet Silverado 1500 Custom', 'Porsche Macan GTS', 'Porsche Boxster GTS', 'GMC Sierra 3500HD SLE', 'Ford Mustang Premium', 'Acura ILX 2.4L Tech', 'Lincoln MKT Livery', 'Audi S4 3.0 Quattro Prem Plus', 'Chevrolet Corvette ZR1 3ZR', 'Hyundai Genesis 5.0', 'Kia Stinger Premium', 'Chevrolet Camaro LT', 'Land Rover Range Rover Sport SC', 'Mitsubishi Outlander Sport ES', 'Cadillac Escalade Premium', 'Ford Fiesta ST', 'Subaru Legacy 2.5I Sport', 'Nissan Versa 1.6 SL', 'Chevrolet Trax LTZ', 'Audi A3 2.0T Premium Plus S', 'Porsche 911 Carrera 4', 'Volvo XC60 T5 Momentum', 'Toyota Yaris L', 'Audi S3 2.0T Quattro Premium P', 'Fiat 500L Trekking', 'Land Rover Discovery Sport HSE Luxur', 'Toyota Tacoma Limited', 'Volvo XC90 T5 R-Design', 'GMC Canyon WT', 'GMC Sierra 2500HD SLE', 'Kia Optima SXL', 'Volkswagen Tiguan SEL Prem 4Motion', 'Nissan Murano S', 'Alfa-Romeo Giulia Quadrofoglio', 'Infiniti QX80', 'Chevrolet Cruze LT', 'Volkswagen Beetle 2.0T Coast', 'Mercedes S65 AMG', 'Ford F-250 SD King Ranch', 'BMW X1 SDrive 28i', 'Acura TLX SH Advance', 'Audi R8 5.2L V10 Quattro', 'Cadillac ATS Performance', 'Honda Ridgeline RT', 'Nissan Maxima S', 'Jaguar XF', 'Hyundai Santa Fe XL SE Limited', 'Jeep Wrangler Sport', 'Mercedes GLE63 AMG S 4MATIC', 'Ford Expedition MAX Platinum', 'Chevrolet Silverado 3500HD LT', 'Dodge Ram 1500 Longhorn', 'Volkswagen Tiguan SE', 'Nissan Altima 2.5 SR', 'Nissan Titan SV', 'Kia Forte LX', 'Cadillac XT5 Luxury', 'Toyota Avalon XSE', 'Nissan Frontier SL', 'Chevrolet Bolt EV LT', 'GMC Acadia SL', 'Toyota Avalon XLE', 'Toyota Prius C One', 'Toyota Corolla SE', 'Audi Q7 3.0T Quattro Prem Plus', 'Nissan Versa 1.6 S', 'Volkswagen Tiguan S', 'Hyundai Ioniq SEL', 'Ford Ecosport SES', 'Audi Q7 3.0T Quattro Premium', 'Volkswagen Tiguan SEL 4Motion', 'Lexus IS 350', 'Nissan Sentra SL', 'Jaguar F-Pace 35T R-Sport', 'BMW X6 XDrive 50I', 'Buick Lacrosse Premium', 'Subaru Forester 2.5I Sport Eye', 'Volkswagen Golf 1.4T S', 'Acura MDX SH Advance Package', 'Chevrolet Traverse Premier', 'BMW 330e', 'Nissan Armada Platinum', 'Mini Cooper JCW GP KIT', 'Hyundai Ioniq', 'Chevrolet Camaro RS', 'Toyota Corolla LE', 'Honda Civic LX', 'Mercedes GLE63 AMG S 4MATIC Coupe', 'Ford F-250 SD King Ranch OFF', 'Honda Odyssey LX', 'Ford F-150 Raptor', 'Audi Etron Prestige Ultra', 'Porsche Cayenne', 'Kia Sportage EX', 'Cadillac XT4 Prem Luxury', 'BMW X3 SDrive 30i', 'Toyota RAV4 XSE', 'Audi A5 2.0T Quattro Premium P', 'Ford F-250 SD Limited', 'BMW X6 XDrive 35i', 'Volkswagen Golf Alltrack SE', 'GMC Sierra 1500 Denali', 'Jaguar E-Pace S', 'BMW 430i Gran Coupe SULEV', 'Nissan Versa 1.6 S Plus', 'Volvo S60 T6 Momentum', 'Volvo XC90 T6', 'Volvo S60 T6 R-Design', 'Mercedes GLE43 AMG S 4MATIC Coupe', 'Chevrolet Cruze CVT', 'Mercedes SL550', 'Toyota Sienna Limited', 'Hyundai Kona Limited', 'Cadillac XTS Premium', 'Nissan Leaf S', 'BMW Alpina B7', 'Ford Flex Limited', 'Subaru BRZ TS', 'Chevrolet Traverse RS', 'Ford Explorer', 'Audi A3 2.0T Prestige', 'Cadillac Escalade ESV Luxury', 'Ford Edge Sport', 'Hyundai Kona SEL', 'Chevrolet Corvette Stingray Z51 2LT', 'Toyota Mirai', 'GMC Acadia SLE-1', 'Toyota RAV4 Limited', 'Chevrolet Sonic', 'Ford Fiesta ST Line', 'Honda Odyssey EX-L', 'Lincoln Continental Premier', 'Toyota Tundra SR5', 'Chevrolet Bolt EV Premier', 'Audi Etron Premium Plus Ultra', 'Subaru BRZ Premium', 'BMW I3 S', 'Hyundai Veloster', 'Land Rover Range Rover Supercharged', 'Acura TLX A-SPEC', 'Jeep Grand Cherokee SRT-8', 'Honda Fit LX w/Honda Sensing', 'Mercedes CLA250 4Matic', 'Toyota Highlander Limited', 'Ford Explorer XLT', 'Dodge Challenger SRT Hellcat', 'Chevrolet Equinox L', 'Hyundai Elantra Value Edition', 'Porsche 911 Carrera Targa 4S', 'Chrysler Pacifica Limited', 'Porsche 911 Carrera 4S', 'Dodge Ram 1500 Lonestar', 'Cadillac XTS Platinum', 'Subaru Legacy 2.5I Limited', 'Lexus RC 300', 'Jeep Grand Cherokee Sterling', 'Mercedes E63 AMG S 4MATIC', 'BMW 530e iPerformance', 'BMW M4', 'Mazda MX-5 Miata Grand Touring', 'Kia Sedona L', 'Ford Edge SE', 'GMC Canyon SLT', 'Audi R8 5.2L V10 Quattro Plus', 'Hyundai Accent SE', 'Lexus GS 450H', 'Lincoln MKZ Reserve', 'Chevrolet Suburban 1500', 'Lexus ES 350 S', 'Subaru XV Crosstrek 2.0I', 'Chevrolet Corvette Grand Sport LT', 'Volkswagen Passat SEL', 'Audi TT RS', 'Mitsubishi Outlander GT', 'Chevrolet Malibu', 'Alfa-Romeo Giulia Q4', 'Honda Insight EX', 'Ford F-450 SD King Ranch', 'Land Rover Range Rover SV AUTOBIO Dy', 'Chevrolet Traverse LS', 'Kia Sedona LX', 'Subaru Forester 2.5I Premium', 'Honda Odyssey Elite', 'Honda HR-V LX', 'Lexus RX 450H F-Sport', 'Nissan Murano SL', 'Audi Allroad Quattro Prem Plus', 'GMC Terrain Denali', 'Chevrolet Equinox LS', 'Porsche 718 Cayman GTS', 'Alfa-Romeo Giulia Sport', 'Porsche 911 Turbo S', 'Audi RS3 Quattro', 'Mitsubishi Outlander Sport SE', 'Land Rover Range Rover Evoq HSE', 'BMW 440i XDrive', 'BMW M5', 'Porsche Boxster', 'Volkswagen Atlas SE Tech', 'BMW M2', 'Mercedes Metris Passenger Work', 'Volkswagen GTI S 2.0T', 'Audi S3 2.0T Quattro Prestige', 'Volkswagen Jetta SE', 'Chevrolet Express G3500 LS', 'Mercedes AMG GT C', 'Honda Fit EX', 'Chevrolet Malibu L', 'Jaguar F-Pace 35T Premium', 'BMW X6 M', 'Land Rover Range Rover Sport HSE P40', 'Jaguar XF Prestige', 'Dodge Ram 1500 ST', 'Alfa-Romeo 4C Launch Edition', 'Acura ILX 2.4L Prem A-SPEC', 'Volvo XC90 T8 Excellence', 'Chevrolet Suburban K1500 Fleet', 'Kia Cadenza Premium', 'Honda Accord EX-L', 'Fiat 500L Pop', 'Infiniti Q60', 'Chevrolet Impala LT', 'Volvo V90 T6 Momentum', 'Nissan Sentra SV', 'Jaguar XF 25t Prestige', 'Honda CR-V LX', 'Volvo V60 T6 R-Design', 'Acura MDX Tech RES', 'Kia Forte GT', 'Volkswagen GTI SE 2.0T', 'Chevrolet Equinox 3LT', 'Toyota Corolla 50th Anniv Specia', 'Chrysler Pacifica Touring-L Plus', 'GMC Sierra 1500 AT4', 'BMW X5 M', 'Jaguar F-Type SVR', 'BMW 740i', 'Subaru Ascent Limited', 'Ford F-250 SD Lariat', 'Mercedes C63 AMG S', 'Hyundai Santa Fe Limited', 'Land Rover Range Rover Sport SVR', 'Ford Taurus Limited', 'Subaru Forester 2.5I Touring', 'Mercedes C43 4MATIC', 'Kia Soul', 'Lincoln Navigator Select', 'Infiniti Q60 Red Sport 400', 'Ford Ecosport S', 'Ford Mustang Shelby GT350R', 'Chevrolet Trax LT', 'Audi A6 2.0T Premium', 'Audi A3 1.8T Premium Plus', 'Kia Stinger', 'Subaru Crosstrek Limited', 'Audi TT 3.2 Quattro Prestige', 'Hyundai Tucson SEL Plus', 'Kia Stinger GT1', 'Subaru Crosstrek Premium', 'Honda HR-V Touring', 'Acura MDX SH-E Advance', 'Toyota Prius C Four', 'Audi Allroad Quattro Prestige', 'Porsche Cayenne Platinum', 'Porsche Panamera 4 Executive', 'Subaru Outback 2.5I Limited', 'Volvo XC60 T8 R-Design', 'Chrysler 300 S', 'Ford Mustang', 'Audi Etron Premium Ultra', 'Subaru Forester 2.0XT Touring', 'Audi A6 3.0T Quattro Premium', 'Alfa-Romeo 4C Spider', 'Mercedes G550', 'Subaru Forester 2.5I', 'GMC Acadia Denali', 'Buick Regal TourX', 'Porsche Panamera 4S', 'Volvo XC40 T5 R-Design', 'BMW X5 XDrive 50i', 'Volvo XC60 T8 Momentum', 'Jaguar XF 35t Prestige', 'Jeep Cherokee Trailhawk Elite', 'Hyundai Accent SEL', 'BMW I3 Range Extender', 'Fiat 500 Abarth', 'Toyota Sequoia Platinum', 'Toyota Prius LE', 'Audi SQ5 3.0T Quattro Prestige', 'Chevrolet Express G2500 LS', 'Mercedes GLE400 4MATIC', 'Toyota Corolla L', 'Lincoln Navigator L Reserve', 'Porsche 911 Carrera GT3 RS', 'Buick Regal Sportback GS', 'Mercedes S450 4MATIC', 'GMC Terrain SLT', 'Ford Flex Limited w/EcoBoost', 'Dodge Journey Crossroad', 'Honda CR-V EX', 'Audi Q3 2.0T Quattro Premium P', 'Volkswagen Golf Alltrack S', 'Acura ILX 2.4L Special Edition', 'Volvo V90 T6 Inscription', 'BMW 650i XDrive', 'Nissan Maxima Platinum', 'Jaguar F-Pace 25T R-Sport', 'Audi A4 2.0 TFSI Quattro Premi', 'Lincoln Nautilus Black Label', 'Nissan GT-R Track Edition', 'Volkswagen Jetta GLI SE', 'Mitsubishi Outlander Sport LE', 'Kia Sportage LX', 'Audi Etron Premium', 'Acura MDX Tech', 'Ford Mustang GT', 'Jeep Grand Cherokee Overland', 'Toyota Land Cruiser', 'Toyota Highlander SE', 'Ford Flex SE', 'Audi TTS 2.0 Quattro', 'Lexus GS 300', 'Toyota Avalon XLE Plus', 'Chevrolet Trax LS', 'Toyota Tundra 1794', 'Toyota Prius L', 'Subaru Crosstrek', 'BMW 340i XDrive', 'Nissan Sentra Nismo', 'Dodge Charger GT', 'Cadillac CTS V Premium', 'Chevrolet Silverado 3500HD High Cty', 'Subaru Impreza 2.0I', 'Volvo V90 T5 Momentum', 'Volvo XC60 T6 R-Design', 'Jaguar F-Pace SVR', 'Kia Optima SX', 'Jaguar XE 25t', 'GMC Sierra 2500HD', 'Chevrolet Colorado Work Truck', 'Jeep Grand Cherokee Laredo', 'Chrysler Pacifica Touring Plus', 'Mercedes G65 AMG 4MATIC', 'Cadillac CT6 Sport', 'Toyota Avalon XLE Premium', 'Honda Civic Type-R', 'BMW 430i Gran Coupe XDrive SU', 'Audi Q3 2.0T Premium', 'Lexus RC 300 F-Sport', 'Porsche Cayenne GTS', 'Volkswagen Beetle 2.0T S', 'Volkswagen Atlas SEL', 'Audi A4 2.0 TFSI Ultra Premium', 'Mercedes G63 AMG', 'Mercedes SL450', 'Alfa-Romeo Stelvio Q4', 'Volvo V90 T5 X-Country Inscript', 'Audi A6 3.0T Quattro Premium P', 'Dodge Ram Promaster City SLT', 'Nissan Murano Platinum', 'Audi A4 2.0T Technik', 'Volkswagen Beetle 2.0T SE', 'Toyota Avalon Limited', 'Nissan Sentra SR', 'Dodge Ram 1500 Tradesman', 'Acura RLX Advance', 'Chevrolet Corvette Grand Sport 3LT', 'Honda Accord Touring', 'Land Rover Range Rover HSE P400E', 'Alfa-Romeo Stelvio Sport', 'Nissan Titan XD SV', 'Mercedes GLC63 AMG S 4Matic', 'Nissan Versa Note 1.6 SL', 'BMW X5 35D', 'Dodge Ram 1500 Limited', 'Acura MDX', 'Chevrolet Impala Premier', 'GMC Sierra 1500 Elevation', 'Mitsubishi Outlander ES', 'Mercedes CLS550', 'BMW 530e XDrive iPerformance', 'Lincoln Navigator', 'Mitsubishi Mirage G4 ES', 'Jaguar XE 20D', 'Jaguar XF 20d Prestige', 'Volkswagen Golf TSI SE', 'Mazda CX-3 Sport', 'Mercedes GLC300', 'Chevrolet Equinox 3LZ', 'Infiniti Q50 Luxe', 'BMW X3 XDrive 30i', 'Alfa-Romeo Giulia TI Lusso', 'Nissan Versa Note 1.6 SR', 'Jaguar XE 20D Premium', 'Audi A4 2.0T Quattro Prestige', 'Audi A3 2.0T Quattro Prem Plus', 'Volkswagen Jetta S', 'Chrysler Pacifica Touring', 'Toyota Yaris SE', 'Lexus RX 450HL', 'Porsche Panamera GTS Turbo', 'Kia Sorento LX', 'Porsche 911 Carrera 2', 'Lincoln Nautilus', 'Cadillac XT5 Platinum', 'Volvo V60 T6 Polestar', 'Audi A7 3.0T Quattro Prestige', 'Porsche Panamera Turbo', 'Toyota RAV4 XLE', 'Lexus LS 500H', 'Jaguar F-Pace 20D Portfolio', 'Chevrolet Silverado 2500HD WT', 'Dodge Ram 1500 Outdoorsman', 'Volkswagen Tiguan S 4Motion', 'Cadillac ATS', 'Dodge Charger R/T', 'Audi S8 4.0T Quattro', 'Fiat 124 Spider Abarth', 'Alfa-Romeo Stelvio TI Sport', 'Acura TLX Tech 3.5L', 'Honda Civic Touring', 'Nissan Titan Platinum Reserve', 'Porsche Panamera 4 Sport Turismo', 'Nissan Frontier Pro-4x', 'Kia Rio LX', 'Volvo V90 T6 X-Country Ocean Ra', 'Dodge Charger R/T Scat Pack', 'Mercedes GLE550 AMG 4MATIC', 'Mini Cooper JCW', 'Audi Q5 2.0T Premium', 'Lexus NX 300h', 'Buick Enclave', 'Chevrolet Suburban C1500 Premier', 'Acura MDX SH Advance and Ent Pa', 'Mitsubishi Eclipse Cross ES', 'Chevrolet Sonic Premier', 'Lexus RX 450H', 'Ford F-350 SD', 'Nissan Versa Note 1.6 S', 'GMC Canyon SL', 'Ford F-250 SD XLT', 'Toyota Highlander XLE', 'Dodge Grand Caravan SE', 'Acura ILX 2.4L Watch', 'Mercedes GLS550 4MATIC', 'Nissan NV3500 S', 'Kia Soul !', 'Chevrolet Camaro ZL1', 'Kia Niro EX Premium', 'GMC Terrain SL', 'Audi A4 2.0T Premium Plus', 'Ford Fusion Plug-In Hybrid SE', 'Jeep Cherokee Limited', 'Audi A3 2.0T Quattro Prestige', 'Mercedes C350e', 'Acura MDX Advance', 'GMC Sierra 2500HD SLT', 'Nissan Altima 2.5 SV', 'Lexus LC500', 'Toyota Tundra Platinum', 'Ford Explorer Limited', 'Ford Transit Connect XL', 'Jaguar F-Type 340 HP', 'Dodge Grand Caravan GT', 'Jaguar XF 25t Premium', 'Land Rover Range Rover Sport AUTOBIO', 'Hyundai Veloster Ultimate', 'Buick Lacrosse Preferred', 'Volkswagen Golf TSI S 4M', 'Cadillac XTS Luxury', 'Mercedes AMG GT S', 'Dodge Challenger R/T Scat Pack', 'Porsche Cayenne S Platinum', 'Buick Lacrosse', 'Hyundai Santa Fe Limited Ultimate', 'Subaru Outback 3.6R Limited', 'Volkswagen Jetta R-Line', 'Hyundai Kona SE', 'Volvo V60 T5 Platinum', 'Mercedes GLC43 4MATIC', 'Chevrolet Silverado 1500 Custom Tra', 'Chrysler Pacifica', 'Jeep Compass Sport', 'Nissan Leaf SV', 'Chevrolet Equinox LZ', 'Nissan Titan SL', 'Toyota Sienna SE', 'Mercedes GLE350 4MATIC', 'Mini Cooper', 'Jeep Renegade Altitude', 'Volkswagen Golf 1.8T SE', 'Porsche 718 Cayman', 'Acura MDX SH', 'Cadillac Escalade Luxury', 'Jaguar XF Portfolio LE', 'Lexus RX 350L Luxury', 'Land Rover Range Rover Evoq HSE Dyna', 'Jaguar XE 20D R-Sport', 'BMW M550i xDrive', 'Volvo V60 T5 X-Country', 'Infiniti QX60', 'Jeep Grand Cherokee Trailhawk', 'Infiniti Q50 Premium', 'Buick Encore Essence', 'Honda Clarity Touring', 'Audi A6 3.0T Quattro Sport', 'Mercedes GLS450 4MATIC', 'GMC Yukon SLE', 'Jaguar I-Pace SE', 'GMC Sierra 3500HD', 'Volvo XC60 T5 Inscription', 'Chevrolet Malibu 1LT', 'Honda Pilot EX', 'Ford F-150 FX4', 'Kia Forte FE', 'BMW X2 XDrive 28i', 'Lincoln MKC Select', 'Hyundai Santa Fe XL Limited Ultim', 'Mercedes Maybach S650', 'Land Rover Discovery HSE Luxury', 'Nissan Frontier S', 'Jeep Wrangler Rubicon', 'Nissan GT-R', 'Subaru Forester 2.0XT Premium', 'Jaguar F-Type R-Dynamic', 'Hyundai Kona SEL w/tech', 'Kia Forte SX', 'Lincoln Navigator Black Label', 'Audi Q3 2.0T Prestige', 'Ford Escape Titanium', 'Cadillac Escalade', 'Nissan Armada SV', 'Acura RDX Tech', 'Volkswagen GTI Autoban 2.0T', 'Jaguar E-Pace R-Dynamic S', 'Honda Ridgeline Sport', 'Lincoln MKC Black Label', 'Cadillac Escalade ESV Platinum', 'Ford Taurus SE', 'Alfa-Romeo Giulia TI', 'Hyundai Sonata Eco', 'Buick Encore Preferred', 'Cadillac CT6 Luxury', 'Chevrolet Silverado 1500 LT Trail B', 'Jaguar XF S', 'Lexus GS-F', 'Jeep Wrangler Unlimited Altitu', 'Mercedes GLA250 4Matic', 'Jeep Wrangler Freedom', 'Hyundai Santa Fe SEL+', 'Chevrolet Corvette Grand Sport 2LT', 'Hyundai Santa Fe XL SE', 'Nissan Titan S', 'Nissan Altima 2.5 SL', 'Volvo XC40 T4 Inscription', 'Jeep Cherokee Sport', 'Acura RDX Adv Package', 'Kia Stinger GT2', 'Ford Focus ST', 'Toyota Camry LE', 'Dodge Challenger SRT Hellcat Re', 'Buick Regal Sportback Essence', 'Mazda CX-5 Grand Touring', 'Chrysler 300C', 'Honda Insight LX', 'Volvo S90 T8 Inscription', 'Subaru Outback 2.5I', 'Mazda Mazda3 Grand Touring', 'Toyota Prius C Three', 'Volkswagen Atlas Execline+ R-Line', 'Toyota C-HR Limited', 'Cadillac CTS V-Sport', 'Kia Rio S', 'Land Rover Range Rover Velar S', 'Toyota Avalon XLE Touring', 'Jaguar I-Pace HSE', 'Subaru BRZ Limited', 'Toyota Tacoma SR', 'Honda Pilot EX Touring', 'Subaru WRX STI Limited', 'Mini Cooper Clubman JCW', 'Genesis G80 Ultimate', 'Acura MDX Sport Advance', 'Audi S5 3.0 Quattro Prestige', 'Alfa-Romeo Stelvio TI', 'Mazda CX-9 Touring', 'Nissan Titan XD SL', 'Lincoln MKZ Premier', 'Hyundai Ioniq Limited Plug-In', 'Kia Niro LX', 'Chevrolet Silverado 1500', 'Chevrolet Silverado 1500 RST', 'Toyota 4Runner Limited', 'Nissan Versa 1.6 SV', 'Ford F-350 SD Lariat', 'Volvo XC60 T6 Momentum', 'Hyundai Elantra SEL', 'Jeep Wrangler Sport S', 'Toyota C-HR LE', 'Mazda MX-5 Miata SE', 'Chevrolet Silverado 2500HD LT', 'Mercedes SLC 300', 'Hyundai Elantra Eco', 'Toyota Prius XLE', 'Dodge Challenger GT', 'Jaguar XJL Portfolio', 'Jeep Grand Cherokee Limited', 'Kia Sorento SX Limited', 'Porsche Panamera 4', 'Volvo S60 T8 R-Design', 'Ford Expedition XL', 'Ford Mustang Shelby GT350', 'Chevrolet Impala LS', 'Ford Fusion SEL', 'Ford Escape SEL', 'Jaguar XE 20D Portfolio', 'Lexus GX 460', 'Infiniti QX30', 'Lexus RC 350 F-Sport', 'BMW M3', 'Honda Fit Sport w/Honda Sensing', 'Honda Fit EX-L Navi', 'Nissan 370Z', 'BMW I3', 'Mini Cooper Clubman JCW ALL4', 'Ford Focus BEV', 'Jaguar XJ Supercharged', 'Alfa-Romeo Giulia Q4 TI Lusso', 'Volvo XC90 T5 Inscription', 'Hyundai Tucson SE', 'Jaguar XE SV Project 8', 'Hyundai Tucson Sport', 'Land Rover Range Rover Sport HSE', 'Chevrolet Suburban K1500 Premier', 'Hyundai Sonata Sport', 'BMW M240i XDrive', 'Volkswagen Beetle Dune', 'Volvo V60 T5 X-Country Platinum', 'Chevrolet Traverse LT Fleet', 'Alfa-Romeo Giulia TI Sport', 'Chevrolet Suburban 1500 LS', 'Chevrolet Volt Electric Premier', 'Subaru WRX Premium', 'Lincoln MKX Reserve', 'Chevrolet Corvette Z06 LZ', 'Subaru Legacy 2.5I Premium', 'Ford Fusion S', 'Jeep Renegade Sport', 'Mercedes AMG GT R', 'Toyota RAV4 XLE Premium', 'Audi A5 2.0T Quattro Premium', 'Volkswagen Tiguan SE 4Motion', 'Honda CR-V EX-L', 'Buick Enclave Essence', 'Subaru WRX Limited', 'GMC Yukon XL 1500 SLT', 'Porsche Panamera Sport Turismo', 'Mitsubishi Outlander SEL', 'Volvo S60 T5 Momentum', 'Volvo XC90 T5 Momentum', 'Ford Focus S', 'Ford F-250 SD XL OFF', 'Alfa-Romeo 4C', 'Jaguar XE S', 'Audi A6 2.0T Quattro Sport', 'BMW 320i', 'Porsche 718 Cayman GT4', 'Lexus RC 350', 'Volvo V60 T5 Inscription', 'Lincoln Continental Select', 'Alfa-Romeo 4C Spider Launch Edition', 'Honda Insight Touring', 'Kia Niro Touring', 'Volkswagen Jetta GLI SEL', 'Jaguar XF Premium', 'Volvo V60 T5 X-Country Momentum', 'Toyota Prius Plus', 'Jaguar F-Type 400 Sport', 'Mitsubishi Eclipse Cross SE', 'Lexus LC500h', 'Chevrolet Corvette ZR1 1ZR', 'Toyota Sequoia TRD Sport', 'Audi A4 2.0T Premium', 'Acura ILX 2.4L Premium', 'Lincoln Nautilus Premier', 'Chevrolet Suburban C15 Premier', 'Lexus IS 300', 'Chevrolet Malibu LS', 'Chevrolet Silverado 3500HD', 'Buick Regal Sportback Avenir', 'Lexus GX 460 Luxury', 'Audi S5 3.0 Quattro Premium', 'Acura ILX 2.4L Tech A-SPEC', 'Chevrolet Corvette Stingray Z51 LT', 'Fiat 500L Lounge', 'Mazda MX-5 Miata Touring', 'BMW 340i', 'Acura MDX Sport Tech', 'GMC Acadia Terrain-1', 'Cadillac XTS Armored', 'Chevrolet Suburban C1500 Fleet', 'Honda Ridgeline Black', 'Ford Fusion Energi Titanium', 'Ford Fiesta S', 'Hyundai Sonata Limited Plug-In', 'Jaguar XJL Portfolio 50', 'Chevrolet Tahoe K1500', 'Nissan Titan Pro-4x', 'Mercedes Metris Passenger', 'Jeep Wrangler Unlimited Freedom', 'Cadillac XT5', 'Ford Explorer Platinum', 'BMW M6 Gran Coupe', 'GMC Canyon Denali', 'BMW 440i Gran Coupe XDrive', 'Subaru WRX', 'Kia Sedona SX Limited', 'Alfa-Romeo Stelvio Veloce', 'BMW 230i XDrive', 'Chevrolet Bolt EV Premier Fast Char'}\n"
     ]
    }
   ],
   "source": [
    "name_map = insurance_matching.create_manual_checklist()"
   ]
  },
  {
   "cell_type": "code",
   "execution_count": 3,
   "metadata": {},
   "outputs": [],
   "source": [
    "insurance_msrp_data = insurance_matching.read_manual_checklist('data/Manual Checklist - Sheet1.csv', name_map)"
   ]
  },
  {
   "cell_type": "code",
   "execution_count": 4,
   "metadata": {},
   "outputs": [],
   "source": [
    "insurance_msrp_data.to_csv('data/insurance_msrp_data.csv')"
   ]
  },
  {
   "cell_type": "code",
   "execution_count": null,
   "metadata": {},
   "outputs": [],
   "source": []
  },
  {
   "cell_type": "markdown",
   "metadata": {},
   "source": [
    "### Build cost model ###\n",
    "\n",
    "#### Model Elements ####\n",
    "1. Assuming a lifespan of 10 years: Insurance cost, Maintenance Cost\n",
    "2. Light user (6k miles/year), Medium user (12k miles/year), heavy user (18k miles/year): Gasoline cost, Electricty Cost\n",
    "3. Market Price\n",
    "4. Environmental Cost\n",
    "\n",
    "Overall cost calculation will be based on each car, each state, w/(o) env, user type"
   ]
  },
  {
   "cell_type": "code",
   "execution_count": null,
   "metadata": {},
   "outputs": [],
   "source": [
    "import cost_model\n",
    "import numpy as np"
   ]
  },
  {
   "cell_type": "code",
   "execution_count": null,
   "metadata": {},
   "outputs": [],
   "source": [
    "# import all data files after clean up\n",
    "insurance_msrp, electricity_data, gas_price, co2_mwh, maintenance_data, fuel_economy_data = cost_model.import_all_data()"
   ]
  },
  {
   "cell_type": "code",
   "execution_count": null,
   "metadata": {},
   "outputs": [],
   "source": [
    "# create a master dictionary, calculate overall cost based on weighing\n",
    "master_dict = cost_model.build_model_data_dict(insurance_msrp, electricity_data, gas_price, co2_mwh, maintenance_data, fuel_economy_data)"
   ]
  },
  {
   "cell_type": "code",
   "execution_count": null,
   "metadata": {},
   "outputs": [],
   "source": [
    "# save master dict to file\n",
    "np.save('data/master_dict', master_dict) "
   ]
  },
  {
   "cell_type": "markdown",
   "metadata": {},
   "source": [
    "### Create recommendation for flow chart ###"
   ]
  },
  {
   "cell_type": "code",
   "execution_count": null,
   "metadata": {},
   "outputs": [],
   "source": [
    "df = cost_model.get_df()"
   ]
  },
  {
   "cell_type": "code",
   "execution_count": null,
   "metadata": {},
   "outputs": [],
   "source": [
    "# get the best vehicles in the price range and fuel type\n",
    "cost_model.get_best_vehicle(df, [0,20000], 'g')"
   ]
  },
  {
   "cell_type": "code",
   "execution_count": null,
   "metadata": {},
   "outputs": [],
   "source": [
    "cost_model.get_best_vehicle(df, [0,20000], 'e')"
   ]
  },
  {
   "cell_type": "code",
   "execution_count": null,
   "metadata": {},
   "outputs": [],
   "source": [
    "cost_model.get_best_vehicle(df, [20000,30000], 'g')"
   ]
  },
  {
   "cell_type": "code",
   "execution_count": null,
   "metadata": {},
   "outputs": [],
   "source": [
    "cost_model.get_best_vehicle(df, [20000,30000], 'e')"
   ]
  },
  {
   "cell_type": "code",
   "execution_count": null,
   "metadata": {},
   "outputs": [],
   "source": [
    "cost_model.get_best_vehicle(df, [30000,40000], 'g')"
   ]
  },
  {
   "cell_type": "code",
   "execution_count": null,
   "metadata": {},
   "outputs": [],
   "source": [
    "cost_model.get_best_vehicle(df, [30000,40000], 'e')"
   ]
  },
  {
   "cell_type": "code",
   "execution_count": null,
   "metadata": {},
   "outputs": [],
   "source": []
  },
  {
   "cell_type": "code",
   "execution_count": null,
   "metadata": {},
   "outputs": [],
   "source": []
  }
 ],
 "metadata": {
  "kernelspec": {
   "display_name": "Python 3",
   "language": "python",
   "name": "python3"
  },
  "language_info": {
   "codemirror_mode": {
    "name": "ipython",
    "version": 3
   },
   "file_extension": ".py",
   "mimetype": "text/x-python",
   "name": "python",
   "nbconvert_exporter": "python",
   "pygments_lexer": "ipython3",
   "version": "3.7.4"
  }
 },
 "nbformat": 4,
 "nbformat_minor": 2
}
