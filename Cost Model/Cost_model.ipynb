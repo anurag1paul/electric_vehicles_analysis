{
 "cells": [
  {
   "cell_type": "code",
   "execution_count": 217,
   "metadata": {},
   "outputs": [],
   "source": [
    "import pandas as pd\n",
    "from fuzzywuzzy import fuzz \n",
    "from fuzzywuzzy import process \n",
    "import numpy as np"
   ]
  },
  {
   "cell_type": "code",
   "execution_count": 150,
   "metadata": {},
   "outputs": [],
   "source": [
    "state_list = [\"AK\",\"AL\",\"AR\",\"AZ\",\"CA\",\"CO\",\"CT\",\"DE\",\"FL\",\"GA\",\"HI\",\"IA\",\"ID\", \"IL\",\"IN\",\"KS\",\"KY\",\"LA\",\"MA\",\"MD\",\"ME\",\"MI\",\"MN\",\"MO\",\"MS\",\"MT\",\"NC\",\"ND\",\"NE\",\"NH\",\"NJ\",\"NM\",\"NV\",\"NY\", \"OH\",\"OK\",\"OR\",\"PA\",\"RI\",\"SC\",\"SD\",\"TN\",\"TX\",\"UT\",\"VA\",\"VT\",\"WA\",\"WI\",\"WV\",\"WY\"]\n",
    "us_state_abbrev = {\n",
    "    'Alabama': 'AL',\n",
    "    'Alaska': 'AK',\n",
    "    'Arizona': 'AZ',\n",
    "    'Arkansas': 'AR',\n",
    "    'California': 'CA',\n",
    "    'Colorado': 'CO',\n",
    "    'Connecticut': 'CT',\n",
    "    'Delaware': 'DE',\n",
    "    'Washington DC': 'DC',\n",
    "    'Florida': 'FL',\n",
    "    'Georgia': 'GA',\n",
    "    'Hawaii': 'HI',\n",
    "    'Idaho': 'ID',\n",
    "    'Illinois': 'IL',\n",
    "    'Indiana': 'IN',\n",
    "    'Iowa': 'IA',\n",
    "    'Kansas': 'KS',\n",
    "    'Kentucky': 'KY',\n",
    "    'Louisiana': 'LA',\n",
    "    'Maine': 'ME',\n",
    "    'Maryland': 'MD',\n",
    "    'Massachusetts': 'MA',\n",
    "    'Michigan': 'MI',\n",
    "    'Minnesota': 'MN',\n",
    "    'Mississippi': 'MS',\n",
    "    'Missouri': 'MO',\n",
    "    'Montana': 'MT',\n",
    "    'Nebraska': 'NE',\n",
    "    'Nevada': 'NV',\n",
    "    'New Hampshire': 'NH',\n",
    "    'New Jersey': 'NJ',\n",
    "    'New Mexico': 'NM',\n",
    "    'New York': 'NY',\n",
    "    'North Carolina': 'NC',\n",
    "    'North Dakota': 'ND',\n",
    "    'Northern Mariana Islands':'MP',\n",
    "    'Ohio': 'OH',\n",
    "    'Oklahoma': 'OK',\n",
    "    'Oregon': 'OR',\n",
    "    'Palau': 'PW',\n",
    "    'Pennsylvania': 'PA',\n",
    "    'Puerto Rico': 'PR',\n",
    "    'Rhode Island': 'RI',\n",
    "    'South Carolina': 'SC',\n",
    "    'South Dakota': 'SD',\n",
    "    'Tennessee': 'TN',\n",
    "    'Texas': 'TX',\n",
    "    'Utah': 'UT',\n",
    "    'Vermont': 'VT',\n",
    "    'Virgin Islands': 'VI',\n",
    "    'Virginia': 'VA',\n",
    "    'Washington': 'WA',\n",
    "    'West Virginia': 'WV',\n",
    "    'Wisconsin': 'WI',\n",
    "    'Wyoming': 'WY',\n",
    "}"
   ]
  },
  {
   "cell_type": "code",
   "execution_count": null,
   "metadata": {},
   "outputs": [],
   "source": [
    "# MPGe to Kwh/1mile :\n",
    "#     kwh/100km = 3370.5 / 1.609344 / MPGe\n",
    "#     kwh/1km = kwh/100km /100\n",
    "#     kwh/1mile = kwh/1km / 0.621371\n",
    "#   ->kwh/1mile = 33.7 / MPGe\n",
    "def ele_Cost(miles,elePrice,MPGe):\n",
    "    '''\n",
    "    @miles : total miles for a certain type of user\n",
    "    @elePrice : electricity price in each state\n",
    "    @MPGe : EV car's MPGe\n",
    "    @return : total cost in dollars for charging EV\n",
    "    '''\n",
    "    totalEle = miles * 33.7 / MPGe\n",
    "    return totalEle * elePrice #eleprice should be in dollars/kwh\n",
    "\n",
    "def fuel_Cost(miles,fuelPrice,mpg):\n",
    "    '''\n",
    "    @milse: total miles\n",
    "    @fuelPrice : gas price in specific state\n",
    "    @mpg: fuel car's mpg\n",
    "    @return : total fuel cost in dollars\n",
    "    '''\n",
    "    totalGallon = miles/mpg\n",
    "    return fuelPrice * totalGallon  #fuelPrice should be in dollars/gallon\n",
    "\n",
    "# Environment Cost:\n",
    "#     the average price to reduce 1 ton of CO2 is 50$\n",
    "#     Accoring to mpg we know miles/gallon; 8.89kg CO2 is generated per gallon; So we know that how much is it to reduce CO2.\n",
    "#     For EV cars, we get data of how much CO2 is generated per mwh(Electricity unit) in each states. So we can know how much is it to reduce co2 for ev\n",
    "\n",
    "def env_fuel_car(miles,mpg,mPerGallon=8.89,priceToReduce=50) :\n",
    "    '''\n",
    "    @miles : total miles for a certain type of user\n",
    "    @mpg : fuel car's mpg\n",
    "    @return : environment cost for fuel car\n",
    "    '''\n",
    "    # a typical cost is around 3000 dollars for medium user\n",
    "\n",
    "    totalGallon = miles/mpg\n",
    "    totalCO2 = totalGallon * 8.89 /1000  #in tons\n",
    "    totalCost = totalCO2 * priceToReduce\n",
    "    return totalCost\n",
    "\n",
    "def env_ev_car(miles, mpge, co2_per_mwh,priceToReduce=50):\n",
    "    '''\n",
    "    @miles : total miles for a certain type of user\n",
    "    @mpge: ev car's mpge\n",
    "    @co2_per_mwh : how much CO2 is generated per mwh\n",
    "    '''\n",
    "    totalEle = miles * 33.7 / mpge /1000 #in mwh\n",
    "    totalCO2 = totalEle * co2_per_mwh\n",
    "    totalCost = totalCO2 * priceToReduce\n",
    "    return totalCost"
   ]
  },
  {
   "cell_type": "markdown",
   "metadata": {},
   "source": [
    "### Import data files ###"
   ]
  },
  {
   "cell_type": "code",
   "execution_count": 146,
   "metadata": {
    "scrolled": true
   },
   "outputs": [],
   "source": [
    "insurance_msrp = pd.read_csv('insurance_msrp_data.csv')\n",
    "# insurance_msrp"
   ]
  },
  {
   "cell_type": "code",
   "execution_count": 147,
   "metadata": {
    "scrolled": true
   },
   "outputs": [],
   "source": [
    "electricity_data = pd.read_excel('eia_gov.xlsx')\n",
    "electricity_data = electricity_data.set_index('state')\n",
    "# electricity_data"
   ]
  },
  {
   "cell_type": "code",
   "execution_count": 98,
   "metadata": {},
   "outputs": [],
   "source": [
    "gas_price = pd.read_csv('gas-prices_2019-11-08.csv')\n",
    "state_abbr = list()\n",
    "for row in gas_price.iterrows():\n",
    "    state_abbr.append(us_state_abbrev[row[1]['states']])\n",
    "gas_price.insert(loc = 0, column = 'state_abbr', value = state_abbr)\n",
    "gas_price = gas_price.set_index('state_abbr')\n",
    "# gas_price['state_abbr']"
   ]
  },
  {
   "cell_type": "code",
   "execution_count": 148,
   "metadata": {
    "scrolled": true
   },
   "outputs": [],
   "source": [
    "co2_mwh = pd.read_csv('co2_mwh.csv')\n",
    "co2_mwh = co2_mwh.set_index('states')\n",
    "# co2_mwh"
   ]
  },
  {
   "cell_type": "code",
   "execution_count": 149,
   "metadata": {},
   "outputs": [],
   "source": [
    "maintenance_data = pd.read_csv('maintenance_cost_brands.csv')\n",
    "maintenance_data = maintenance_data.set_index('Car Brand')\n",
    "# maintenance_data\n"
   ]
  },
  {
   "cell_type": "code",
   "execution_count": 186,
   "metadata": {},
   "outputs": [
    {
     "name": "stderr",
     "output_type": "stream",
     "text": [
      "/Users/liuyuxuan/.conda/envs/ECE143/lib/python3.7/site-packages/IPython/core/interactiveshell.py:3058: DtypeWarning: Columns (70,71,72,73,74,76,79) have mixed types. Specify dtype option on import or set low_memory=False.\n",
      "  interactivity=interactivity, compiler=compiler, result=result)\n"
     ]
    }
   ],
   "source": [
    "fuel_economy_data = pd.read_csv('fueleconomy_vehicles.csv', header=0)\n",
    "fuel_economy_data = fuel_economy_data[['make', 'model', 'city08', 'highway08', 'fuelType1', 'mpgData', 'year']]\n",
    "fuel_economy_data = fuel_economy_data[fuel_economy_data[\"year\"] > 2018]"
   ]
  },
  {
   "cell_type": "code",
   "execution_count": 189,
   "metadata": {},
   "outputs": [
    {
     "data": {
      "text/plain": [
       "(2338, 7)"
      ]
     },
     "execution_count": 189,
     "metadata": {},
     "output_type": "execute_result"
    }
   ],
   "source": [
    "fuel_economy_data.shape"
   ]
  },
  {
   "cell_type": "code",
   "execution_count": null,
   "metadata": {},
   "outputs": [],
   "source": []
  },
  {
   "cell_type": "markdown",
   "metadata": {},
   "source": [
    "# Cost Model #"
   ]
  },
  {
   "cell_type": "markdown",
   "metadata": {},
   "source": [
    "### Model Elements ###\n",
    "1. Assuming a lifespan of 10 years: Insurance cost, Maintenance Cost\n",
    "2. Light user (6k miles/year), Medium user (12k miles/year), heavy user (18k miles/year): Gasoline cost, Electricty Cost\n",
    "3. Market Price\n",
    "4. Environmental Cost\n",
    "\n",
    "each car, each state, w/ w/o env, user type\n"
   ]
  },
  {
   "cell_type": "code",
   "execution_count": 215,
   "metadata": {},
   "outputs": [],
   "source": [
    "mpg_threshold = 50\n",
    "\n",
    "master_dict = dict()\n",
    "\n",
    "\n",
    "\n",
    "for car_info in insurance_msrp.iterrows():\n",
    "    \n",
    "    mpg = 0.55 * car_info[1]['city_mpg'] + 0.45 * car_info[1]['highway_mpg']\n",
    "    if mpg == 0:\n",
    "        brand_data = fuel_economy_data[fuel_economy_data['make'] == row[1]['Make']]\n",
    "        best_score = -1\n",
    "        best_match = ''\n",
    "        for candidate in brand_data.iterrows():\n",
    "            score = fuzz.ratio(candidate[1]['model'], row[1]['Model'])\n",
    "            if score > best_score:\n",
    "                best_score = score\n",
    "                best_match = candidate[1]\n",
    "        mpg = 0.55 * candidate[1]['city08'] + 0.45 * candidate[1]['highway08']\n",
    "    \n",
    "    \n",
    "    \n",
    "    car_name = ' '.join([car_info[1]['Make'], car_info[1]['Model']])\n",
    "    \n",
    "    master_dict[car_name] = dict()\n",
    "    master_dict[car_name]['base'] = car_info[1]['price']\n",
    "    master_dict[car_name]['maintenance'] = int(maintenance_data.at[car_info[1]['Make'],'Cost'].replace(\"$\",\"\").replace(\",\",\"\"))\n",
    "    master_dict[car_name]['fuel_type'] = 'e' if mpg > mpg_threshold else 'g'\n",
    "    master_dict[car_name]['insurance'] = dict() # by state\n",
    "    \n",
    "    master_dict[car_name]['user_type'] = dict()\n",
    "    for mileage in [60000, 120000, 180000]:\n",
    "        master_dict[car_name]['user_type'][mileage] = dict()\n",
    "        master_dict[car_name]['user_type'][mileage]['fuel_cost'] = dict() # by state\n",
    "        master_dict[car_name]['user_type'][mileage]['env_cost'] = dict() # by state\n",
    "        master_dict[car_name]['user_type'][mileage]['total_cost'] = dict()\n",
    "        master_dict[car_name]['user_type'][mileage]['total_cost']['with_env'] = dict() # by state\n",
    "        master_dict[car_name]['user_type'][mileage]['total_cost']['no_env'] = dict() # by state\n",
    "    \n",
    "    \n",
    "    for state in state_list:\n",
    "        for mileage in [60000, 120000, 180000]:\n",
    "            \n",
    "            if mpg >= mpg_threshold:\n",
    "                # for EV\n",
    "                electricity = electricity_data.at[state, '201908'] / 100\n",
    "                fuel_cost = ele_Cost(mileage,electricity,mpg)\n",
    "                env_cost = env_ev_car(mileage, mpg,co2_mwh.at[state, 'co2/mwh'])\n",
    "            else:\n",
    "                # for fuel car\n",
    "                gas = gas_price.at[state, 'prices']\n",
    "                fuel_cost = fuel_Cost(mileage,gas,mpg)\n",
    "                env_cost = env_fuel_car(mileage,mpg)\n",
    "            \n",
    "            maintenance_cost = int(maintenance_data.at[car_info[1]['Make'],'Cost'].replace(\"$\",\"\").replace(\",\",\"\"))\n",
    "            \n",
    "            msrp = car_info[1]['price']\n",
    "            insurance_cost = car_info[1]['Price:'+state]\n",
    "\n",
    "            total_cost_env = fuel_cost + env_cost + maintenance_cost + insurance_cost * 10 + msrp\n",
    "            total_cost = fuel_cost + maintenance_cost + insurance_cost * 10 + msrp\n",
    "            \n",
    "            \n",
    "            master_dict[car_name]['insurance'][state] = insurance_cost\n",
    "            master_dict[car_name]['user_type'][mileage]['fuel_cost'] = fuel_cost\n",
    "            master_dict[car_name]['user_type'][mileage]['env_cost'] = env_cost\n",
    "            master_dict[car_name]['user_type'][mileage]['total_cost']['with_env'][state] = total_cost_env\n",
    "            master_dict[car_name]['user_type'][mileage]['total_cost']['no_env'][state] = total_cost\n",
    "        "
   ]
  },
  {
   "cell_type": "code",
   "execution_count": 219,
   "metadata": {},
   "outputs": [],
   "source": [
    "np.save('master_dict', master_dict) "
   ]
  },
  {
   "cell_type": "code",
   "execution_count": null,
   "metadata": {},
   "outputs": [],
   "source": [
    "read_dictionary = np.load('master_dict.dict',allow_pickle='TRUE').item()"
   ]
  },
  {
   "cell_type": "code",
   "execution_count": 91,
   "metadata": {},
   "outputs": [],
   "source": []
  },
  {
   "cell_type": "code",
   "execution_count": null,
   "metadata": {},
   "outputs": [],
   "source": []
  },
  {
   "cell_type": "markdown",
   "metadata": {},
   "source": [
    "co2_mwh.head(10)"
   ]
  },
  {
   "cell_type": "code",
   "execution_count": null,
   "metadata": {},
   "outputs": [],
   "source": []
  }
 ],
 "metadata": {
  "kernelspec": {
   "display_name": "Python 3",
   "language": "python",
   "name": "python3"
  },
  "language_info": {
   "codemirror_mode": {
    "name": "ipython",
    "version": 3
   },
   "file_extension": ".py",
   "mimetype": "text/x-python",
   "name": "python",
   "nbconvert_exporter": "python",
   "pygments_lexer": "ipython3",
   "version": "3.7.4"
  }
 },
 "nbformat": 4,
 "nbformat_minor": 1
}
